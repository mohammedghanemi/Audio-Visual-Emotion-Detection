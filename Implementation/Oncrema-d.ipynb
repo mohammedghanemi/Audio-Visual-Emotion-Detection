{
 "cells": [
  {
   "cell_type": "code",
   "execution_count": 1,
   "metadata": {},
   "outputs": [
    {
     "name": "stdout",
     "output_type": "stream",
     "text": [
      "Total number of files in cremad-lastversion: 1000\n"
     ]
    }
   ],
   "source": [
    "import boto3\n",
    "import os\n",
    "\n",
    "# Set environment variables for the credentials (optional but recommended)\n",
    "os.environ['AWS_ACCESS_KEY_ID'] = 'APIWBQCCRVK3JK1QVTRK'\n",
    "os.environ['AWS_SECRET_ACCESS_KEY'] = 'iBIGpCoupBmk8glBKOrCb5CiIELLvl5K'\n",
    "host = \"https://gif.s3.iavgroup.local\"\n",
    "s3_client = boto3.client(\n",
    "    's3',\n",
    "    endpoint_url=host,\n",
    "    aws_access_key_id=os.environ['AWS_ACCESS_KEY_ID'],\n",
    "    aws_secret_access_key=os.environ['AWS_SECRET_ACCESS_KEY'],\n",
    "    verify=r'C:/Users/I011176/Downloads/IAV-CA-Bundle.crt'  # Set to the full path of your certificate\n",
    ")\n",
    "\n",
    "# Specify your bucket name and folder path\n",
    "bucket_name = 'multi-modal-emotion-detection'\n",
    "s3_folder_name = 'cremad-lastversionn'\n",
    "\n",
    "# List files in the S3 folder and count them\n",
    "def list_s3_files_count(bucket_name, s3_folder_name):\n",
    "    try:\n",
    "        response = s3_client.list_objects_v2(Bucket=bucket_name, Prefix=s3_folder_name)\n",
    "        if 'Contents' in response:\n",
    "            files = [content['Key'] for content in response['Contents']]\n",
    "            print(f\"Total number of files in {s3_folder_name}: {len(files)}\")\n",
    "        else:\n",
    "            print(f\"No files found in {s3_folder_name}\")\n",
    "    except Exception as e:\n",
    "        print(f\"Error listing files: {e}\")\n",
    "\n",
    "# Call the function to count the files in the S3 folder\n",
    "list_s3_files_count(bucket_name, s3_folder_name)\n"
   ]
  },
  {
   "cell_type": "code",
   "execution_count": null,
   "metadata": {},
   "outputs": [],
   "source": []
  }
 ],
 "metadata": {
  "kernelspec": {
   "display_name": "Python 3",
   "language": "python",
   "name": "python3"
  },
  "language_info": {
   "codemirror_mode": {
    "name": "ipython",
    "version": 3
   },
   "file_extension": ".py",
   "mimetype": "text/x-python",
   "name": "python",
   "nbconvert_exporter": "python",
   "pygments_lexer": "ipython3",
   "version": "3.11.9"
  }
 },
 "nbformat": 4,
 "nbformat_minor": 2
}
